{
 "cells": [
  {
   "metadata": {
    "ExecuteTime": {
     "end_time": "2024-11-15T02:51:33.657528Z",
     "start_time": "2024-11-15T02:51:14.910704Z"
    }
   },
   "cell_type": "code",
   "source": [
    "import pandas as pd\n",
    "\n",
    "df = pd.read_csv(\"resnet.csv\")\n",
    "df.head()\n"
   ],
   "id": "1a3e178f49b6d24c",
   "outputs": [
    {
     "data": {
      "text/plain": [
       "   client_send_at  server_receive_at  image_preprocessed_at  \\\n",
       "0    1.731619e+09       1.731619e+09           1.731619e+09   \n",
       "1    1.731619e+09       1.731619e+09           1.731619e+09   \n",
       "2    1.731619e+09       1.731619e+09           1.731619e+09   \n",
       "3    1.731619e+09       1.731619e+09           1.731619e+09   \n",
       "4    1.731619e+09       1.731619e+09           1.731619e+09   \n",
       "\n",
       "   image_predicted_at  image_save_at  client_receive_at  \n",
       "0        1.731619e+09   1.731619e+09       1.731619e+09  \n",
       "1        1.731619e+09   1.731619e+09       1.731619e+09  \n",
       "2        1.731619e+09   1.731619e+09       1.731619e+09  \n",
       "3        1.731619e+09   1.731619e+09       1.731619e+09  \n",
       "4        1.731619e+09   1.731619e+09       1.731619e+09  "
      ],
      "text/html": [
       "<div>\n",
       "<style scoped>\n",
       "    .dataframe tbody tr th:only-of-type {\n",
       "        vertical-align: middle;\n",
       "    }\n",
       "\n",
       "    .dataframe tbody tr th {\n",
       "        vertical-align: top;\n",
       "    }\n",
       "\n",
       "    .dataframe thead th {\n",
       "        text-align: right;\n",
       "    }\n",
       "</style>\n",
       "<table border=\"1\" class=\"dataframe\">\n",
       "  <thead>\n",
       "    <tr style=\"text-align: right;\">\n",
       "      <th></th>\n",
       "      <th>client_send_at</th>\n",
       "      <th>server_receive_at</th>\n",
       "      <th>image_preprocessed_at</th>\n",
       "      <th>image_predicted_at</th>\n",
       "      <th>image_save_at</th>\n",
       "      <th>client_receive_at</th>\n",
       "    </tr>\n",
       "  </thead>\n",
       "  <tbody>\n",
       "    <tr>\n",
       "      <th>0</th>\n",
       "      <td>1.731619e+09</td>\n",
       "      <td>1.731619e+09</td>\n",
       "      <td>1.731619e+09</td>\n",
       "      <td>1.731619e+09</td>\n",
       "      <td>1.731619e+09</td>\n",
       "      <td>1.731619e+09</td>\n",
       "    </tr>\n",
       "    <tr>\n",
       "      <th>1</th>\n",
       "      <td>1.731619e+09</td>\n",
       "      <td>1.731619e+09</td>\n",
       "      <td>1.731619e+09</td>\n",
       "      <td>1.731619e+09</td>\n",
       "      <td>1.731619e+09</td>\n",
       "      <td>1.731619e+09</td>\n",
       "    </tr>\n",
       "    <tr>\n",
       "      <th>2</th>\n",
       "      <td>1.731619e+09</td>\n",
       "      <td>1.731619e+09</td>\n",
       "      <td>1.731619e+09</td>\n",
       "      <td>1.731619e+09</td>\n",
       "      <td>1.731619e+09</td>\n",
       "      <td>1.731619e+09</td>\n",
       "    </tr>\n",
       "    <tr>\n",
       "      <th>3</th>\n",
       "      <td>1.731619e+09</td>\n",
       "      <td>1.731619e+09</td>\n",
       "      <td>1.731619e+09</td>\n",
       "      <td>1.731619e+09</td>\n",
       "      <td>1.731619e+09</td>\n",
       "      <td>1.731619e+09</td>\n",
       "    </tr>\n",
       "    <tr>\n",
       "      <th>4</th>\n",
       "      <td>1.731619e+09</td>\n",
       "      <td>1.731619e+09</td>\n",
       "      <td>1.731619e+09</td>\n",
       "      <td>1.731619e+09</td>\n",
       "      <td>1.731619e+09</td>\n",
       "      <td>1.731619e+09</td>\n",
       "    </tr>\n",
       "  </tbody>\n",
       "</table>\n",
       "</div>"
      ]
     },
     "execution_count": 1,
     "metadata": {},
     "output_type": "execute_result"
    }
   ],
   "execution_count": 1
  },
  {
   "metadata": {},
   "cell_type": "code",
   "outputs": [],
   "execution_count": null,
   "source": "",
   "id": "7695e215d77ed6ce"
  }
 ],
 "metadata": {
  "kernelspec": {
   "display_name": "Python 3",
   "language": "python",
   "name": "python3"
  },
  "language_info": {
   "codemirror_mode": {
    "name": "ipython",
    "version": 2
   },
   "file_extension": ".py",
   "mimetype": "text/x-python",
   "name": "python",
   "nbconvert_exporter": "python",
   "pygments_lexer": "ipython2",
   "version": "2.7.6"
  }
 },
 "nbformat": 4,
 "nbformat_minor": 5
}
